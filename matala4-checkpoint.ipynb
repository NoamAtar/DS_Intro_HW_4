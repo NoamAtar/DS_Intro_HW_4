{
 "cells": [
  {
   "cell_type": "code",
   "execution_count": 48,
   "id": "ab6f2784",
   "metadata": {},
   "outputs": [],
   "source": [
    "import requests\n",
    "import json\n",
    "data = open(\"C:/temp/dests.txt\")\n",
    "api_key = \"api key\"\n",
    "dest = \"Jerusalem\"\n",
    "dict = {}"
   ]
  },
  {
   "cell_type": "code",
   "execution_count": 94,
   "id": "775f8177",
   "metadata": {},
   "outputs": [],
   "source": [
    "for line in data:\n",
    "    address = line\n",
    "    url1 = \"https://maps.googleapis.com/maps/api/geocode/json?address=%s&key=%s\" % (address,api_key)\n",
    "    url2 = \"https://maps.googleapis.com/maps/api/distancematrix/json?origins=%s&destinations=%s&key=%s\" % (dest,address,api_key)\n",
    "    response = requests.get(url1).json()\n",
    "    response1 = requests.get(url2).json()\n",
    "    distance = response1['rows'][0]['elements'][0]['distance']['text']\n",
    "    duration = response1['rows'][0]['elements'][0]['duration']['text']\n",
    "    latitude = response['results'][0]['geometry']['location']['lat']\n",
    "    longtiude = response['results'][0]['geometry']['location']['lng']\n",
    "    dict[address] = (distance,duration,longtiude,latitude)\n",
    "    print(dict)"
   ]
  },
  {
   "cell_type": "code",
   "execution_count": 104,
   "id": "c749b864",
   "metadata": {},
   "outputs": [
    {
     "name": "stdout",
     "output_type": "stream",
     "text": [
      "Address:Istanbul\n",
      " , Distance: 1,809, Duration :20 hours 42 mins, Longitude: 41.0082376, Latitude : 28.9783589\n",
      "Address:Amsterdam\n",
      " , Distance: 4,528, Duration :2 days 0 hours, Longitude: 52.3675734, Latitude : 4.9041389\n",
      "Address:Valletta\n",
      " , Distance: 3,783, Duration :2 days 2 hours, Longitude: 35.8989085, Latitude : 14.5145528\n",
      "Address:Basel\n",
      " , Distance: 4,091, Duration :1 day 20 hours, Longitude: 47.5595986, Latitude : 7.5885761\n",
      "Address:Doha , Distance: 2,104, Duration :21 hours 51 mins, Longitude: 25.2854473, Latitude : 51.53103979999999\n"
     ]
    }
   ],
   "source": [
    "new_te =[]\n",
    "for (k,v) in dict.items():\n",
    "    new_te.append((v,k))\n",
    "    print (\"Address:\"+ k +\" , Distance: \"+v[0]+ \", Duration :\" +str(v[1]) +\", Longitude: \"+ str(v[2])+ \", Latitude : \"+str(v[3]))\n"
   ]
  },
  {
   "cell_type": "code",
   "execution_count": 111,
   "id": "465c890d",
   "metadata": {},
   "outputs": [
    {
     "name": "stdout",
     "output_type": "stream",
     "text": [
      "Amsterdam\n",
      "\n",
      "Basel\n",
      "\n",
      "Valletta\n",
      "\n"
     ]
    }
   ],
   "source": [
    "new_te=sorted(new_te,reverse=True)\n",
    "for val, key in new_te[:3]:\n",
    "    print (key)"
   ]
  },
  {
   "cell_type": "code",
   "execution_count": null,
   "id": "afec0730",
   "metadata": {},
   "outputs": [],
   "source": []
  },
  {
   "cell_type": "code",
   "execution_count": null,
   "id": "677eea56",
   "metadata": {},
   "outputs": [],
   "source": []
  },
  {
   "cell_type": "code",
   "execution_count": null,
   "id": "bd4c03c5",
   "metadata": {},
   "outputs": [],
   "source": []
  },
  {
   "cell_type": "code",
   "execution_count": null,
   "id": "ed91453a",
   "metadata": {},
   "outputs": [],
   "source": []
  },
  {
   "cell_type": "code",
   "execution_count": null,
   "id": "5e553371",
   "metadata": {},
   "outputs": [],
   "source": []
  },
  {
   "cell_type": "code",
   "execution_count": null,
   "id": "e70a2e24",
   "metadata": {},
   "outputs": [],
   "source": []
  },
  {
   "cell_type": "code",
   "execution_count": null,
   "id": "83ec4bf8",
   "metadata": {},
   "outputs": [],
   "source": []
  },
  {
   "cell_type": "code",
   "execution_count": null,
   "id": "ea69862e",
   "metadata": {},
   "outputs": [],
   "source": []
  },
  {
   "cell_type": "code",
   "execution_count": null,
   "id": "6ac25839",
   "metadata": {},
   "outputs": [],
   "source": [
    "\n"
   ]
  },
  {
   "cell_type": "code",
   "execution_count": null,
   "id": "95bf27db",
   "metadata": {},
   "outputs": [],
   "source": []
  },
  {
   "cell_type": "code",
   "execution_count": null,
   "id": "23736b1c",
   "metadata": {},
   "outputs": [],
   "source": []
  }
 ],
 "metadata": {
  "kernelspec": {
   "display_name": "Python 3 (ipykernel)",
   "language": "python",
   "name": "python3"
  },
  "language_info": {
   "codemirror_mode": {
    "name": "ipython",
    "version": 3
   },
   "file_extension": ".py",
   "mimetype": "text/x-python",
   "name": "python",
   "nbconvert_exporter": "python",
   "pygments_lexer": "ipython3",
   "version": "3.9.7"
  }
 },
 "nbformat": 4,
 "nbformat_minor": 5
}
